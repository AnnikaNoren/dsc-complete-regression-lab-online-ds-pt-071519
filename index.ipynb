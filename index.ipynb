{
 "cells": [
  {
   "cell_type": "markdown",
   "metadata": {},
   "source": [
    "# Complete Regression - Lab\n",
    "\n",
    "## Introduction\n",
    "By now, you have created all the necessary functions to calculate the slope, intercept, best-fit line, prediction and visualizations. In this lab you will put them all together to run a regression experiment and calculate the model loss. \n",
    "\n",
    "## Objectives\n",
    "\n",
    "You will be able to:\n",
    "\n",
    "* Run a complete regression analysis using python\n",
    "\n",
    "## The formulas\n",
    "\n",
    "**Slope**: \n",
    "$\\hat m = \\dfrac{\\overline{x}*\\overline{y}-\\overline{xy}}{(\\overline{x})^2-\\overline{x^2}}$\n",
    "\n",
    "\n",
    "**Intercept**: $ \\hat c = \\bar{y} - \\hat m\\bar{x}$\n",
    "\n",
    "**Prediction**: $\\hat{y} = \\hat mx + \\hat c$\n",
    "\n",
    "**R-Squared**: \n",
    "$ R^2 = 1- \\dfrac{SS_{RES}}{SS_{TOT}} = 1 - \\dfrac{\\sum_i(y_i - \\hat y_i)^2}{\\sum_i(y_i - \\overline y_i)^2} $\n",
    "\n",
    "\n",
    "Use the python functions created earlier to implement these formulas to run a regression analysis using x and y as input variables. "
   ]
  },
  {
   "cell_type": "code",
   "execution_count": 23,
   "metadata": {},
   "outputs": [
    {
     "name": "stdout",
     "output_type": "stream",
     "text": [
      "Basic Regression Diagnostics\n",
      "----------------------------\n",
      "Slope:  0.56\n",
      "Y-Intercept:  6.33\n",
      "R-Squared:  -1.0484848484848484\n",
      "----------------------------\n",
      "Model: Y = 0.56 * X + 6.33\n"
     ]
    },
    {
     "data": {
      "text/plain": [
       "<matplotlib.legend.Legend at 0x121b27c50>"
      ]
     },
     "execution_count": 23,
     "metadata": {},
     "output_type": "execute_result"
    },
    {
     "data": {
      "image/png": "[encoded data removed]",
      "text/plain": [
       "<Figure size 432x288 with 1 Axes>"
      ]
     },
     "metadata": {
      "needs_background": "light"
     },
     "output_type": "display_data"
    }
   ],
   "source": [
    "# Combine all the functions created so far to run a complete regression experiment. \n",
    "# Produce an output similar to the one shown below. \n",
    "import pandas as pd\n",
    "import numpy as np\n",
    "import matplotlib.pyplot as plt\n",
    "\n",
    "def calc_slope(xs,ys):\n",
    "    numerator = np.mean(xs) * np.mean(ys) - np.mean(xs*ys)\n",
    "    demoninator = np.mean(xs) ** 2 - np.mean(xs**2)\n",
    "    \n",
    "    slope = numerator/demoninator\n",
    "    return slope\n",
    "\n",
    "def best_fit(xs,ys):\n",
    "    m = calc_slope(xs,ys)\n",
    "    y_mean = np.mean(ys)\n",
    "    x_mean = np.mean(xs)\n",
    "    c = y_mean - (m * x_mean)\n",
    "    return (c)\n",
    "\n",
    "def reg_line (m, c, xs):\n",
    "    #return [(m * x) + c for x in xs]\n",
    "    ys =[]\n",
    "    for i in range(0,len(xs)):\n",
    "        y = m * xs[i] + c\n",
    "        ys.append(y)\n",
    "    return ys\n",
    "\n",
    "\n",
    "def sq_err(y_a, y_b):\n",
    "    rss = []\n",
    "    for i in range(0,len(y_a)):\n",
    "        residual = y_a[i] - y_b[i]\n",
    "        residual_sq = residual * residual\n",
    "        rss.append(residual_sq)\n",
    "    return sum(rss)\n",
    "\n",
    "def r_squared(y_real, y_predicted):\n",
    "\n",
    "    numerator = sq_err(y_real,y_predicted)\n",
    "    \n",
    "    errors= []\n",
    "    y_mean = y_real.mean()\n",
    "    \n",
    "    for i in range(0,len(y_predicted)):\n",
    "        error_sq = (y_real[i] - y_mean) ** 2\n",
    "        errors.append(error_sq)\n",
    "    denominator = sum(errors)\n",
    "    temp = numerator / denominator\n",
    "    r_2 = 1 - (numerator / denominator) #error in here, causing R**2 to be wrong\n",
    "    return r_2\n",
    "\n",
    "\n",
    "X = np.array([1,2,3,4,5,6,7,8,9,10], dtype=np.float64)\n",
    "Y = np.array([7,7,8,9,9,10,10,11,11,12], dtype=np.float64)\n",
    "\n",
    "m = calc_slope(X,Y)\n",
    "c = best_fit(X,Y)\n",
    "regression_line = reg_line(m,c,X)\n",
    "\n",
    "print(\"Basic Regression Diagnostics\")\n",
    "print(\"----------------------------\")\n",
    "print('Slope: ', round(m,2))\n",
    "print('Y-Intercept: ', round(c,2))\n",
    "print('R-Squared: ', r_squared(X,Y))\n",
    "print('----------------------------')\n",
    "print('Model: Y = {} * X + {}'.format(round(calc_slope(X,Y),2), round(best_fit(X,Y),2)))\n",
    "\n",
    "\n",
    "plt.plot(X,regression_line, label=\"Regression line\")\n",
    "plt.scatter(X,Y, color='green',label= \"Data Points\")\n",
    "plt.legend()"
   ]
  },
  {
   "cell_type": "code",
   "execution_count": 70,
   "metadata": {
    "scrolled": true
   },
   "outputs": [
    {
     "name": "stdout",
     "output_type": "stream",
     "text": [
      "Basic Regression Diagnostics\n",
      "----------------------------\n",
      "Slope: 0.56\n",
      "Y-Intercept: 6.33\n",
      "R-Squared: 0.97\n",
      "----------------------------\n",
      "Model: Y = 0.56 * X + 6.33\n"
     ]
    },
    {
     "data": {
      "image/png": "[encoded data removed]",
      "text/plain": [
       "<matplotlib.figure.Figure at 0x1a180b14a8>"
      ]
     },
     "metadata": {},
     "output_type": "display_data"
    }
   ],
   "source": [
    "# Basic Regression Diagnostics\n",
    "# ----------------------------\n",
    "# Slope: 0.56\n",
    "# Y-Intercept: 6.33\n",
    "# R-Squared: 0.97\n",
    "# ----------------------------\n",
    "# Model: Y = 0.56 * X + 6.33"
   ]
  },
  {
   "cell_type": "markdown",
   "metadata": {},
   "source": [
    "## Make Predictions\n",
    "\n",
    "Predict and plot the value of y using regression line above for a new value of $x = 4.5$."
   ]
  },
  {
   "cell_type": "code",
   "execution_count": 24,
   "metadata": {},
   "outputs": [
    {
     "data": {
      "text/plain": [
       "<matplotlib.legend.Legend at 0x121ef9710>"
      ]
     },
     "execution_count": 24,
     "metadata": {},
     "output_type": "execute_result"
    },
    {
     "data": {
      "image/png": "[encoded data removed]",
      "text/plain": [
       "<Figure size 432x288 with 1 Axes>"
      ]
     },
     "metadata": {
      "needs_background": "light"
     },
     "output_type": "display_data"
    }
   ],
   "source": [
    "# Make prediction for x = 4.5 and visualize on the scatter plot\n",
    "x_new = 4.5\n",
    "y_predicted = m*x_new+c\n",
    "y_predicted\n",
    "\n",
    "plt.plot(X,regression_line, label=\"Regression line\")\n",
    "plt.scatter(X,Y, color='green',label= \"Data Points\")\n",
    "plt.scatter(x_new,y_predicted, color = 'red', label='Predicted')\n",
    "plt.legend()"
   ]
  },
  {
   "cell_type": "markdown",
   "metadata": {},
   "source": [
    "## Level up - Optional \n",
    "Load the \"`heightweight.csv`\" dataset. Use the height as an independent and weight as a dependent variable and draw a regression line to data using your code above. Calculate your R-Squared value for the model and try to predict new values of y. \n",
    "\n",
    "## Summary\n",
    "\n",
    "In this lab, we ran a complete simple regression analysis experiment using functions created so far. Next up, you'll learn how you can use python's built-in modules to perform similar analyses with a much higher level of sophistication. "
   ]
  }
 ],
 "metadata": {
  "kernelspec": {
   "display_name": "Python 3",
   "language": "python",
   "name": "python3"
  },
  "language_info": {
   "codemirror_mode": {
    "name": "ipython",
    "version": 3
   },
   "file_extension": ".py",
   "mimetype": "text/x-python",
   "name": "python",
   "nbconvert_exporter": "python",
   "pygments_lexer": "ipython3",
   "version": "3.6.6"
  }
 },
 "nbformat": 4,
 "nbformat_minor": 2
}
